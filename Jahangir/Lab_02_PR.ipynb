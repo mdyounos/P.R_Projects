{
  "nbformat": 4,
  "nbformat_minor": 0,
  "metadata": {
    "colab": {
      "provenance": [],
      "gpuType": "T4"
    },
    "kernelspec": {
      "name": "python3",
      "display_name": "Python 3"
    },
    "language_info": {
      "name": "python"
    },
    "accelerator": "GPU"
  },
  "cells": [
    {
      "cell_type": "code",
      "source": [
        "from google.colab import drive\n",
        "drive.mount('/content/drive')"
      ],
      "metadata": {
        "colab": {
          "base_uri": "https://localhost:8080/"
        },
        "id": "26ueq_Qkm69E",
        "outputId": "fc5d3a6c-999a-486c-ce59-964cb3bb2018"
      },
      "execution_count": 1,
      "outputs": [
        {
          "output_type": "stream",
          "name": "stdout",
          "text": [
            "Mounted at /content/drive\n"
          ]
        }
      ]
    },
    {
      "cell_type": "code",
      "source": [
        "data_dir =('/content/drive/MyDrive/CSE-4 2-DUET/Pattern recognition /Sessional/NitrogenDeficiencyImage')"
      ],
      "metadata": {
        "id": "1ajZrejanKH8"
      },
      "execution_count": 2,
      "outputs": []
    },
    {
      "cell_type": "code",
      "source": [
        "import tensorflow as tf\n",
        "from tensorflow import keras"
      ],
      "metadata": {
        "id": "sG3FP74inY0V"
      },
      "execution_count": 3,
      "outputs": []
    },
    {
      "cell_type": "code",
      "source": [
        "img_height, img_width = 300, 300\n",
        "input_shape =(300,300)\n",
        "batch_size =32\n",
        "train_ds = tf.keras.preprocessing.image_dataset_from_directory(\n",
        "    data_dir,\n",
        "    validation_split =0.2,\n",
        "    subset =\"training\",\n",
        "    seed =123,\n",
        "    label_mode= 'categorical',\n",
        "    image_size=(img_height, img_width),\n",
        "    batch_size = batch_size\n",
        ")"
      ],
      "metadata": {
        "colab": {
          "base_uri": "https://localhost:8080/"
        },
        "id": "lr1yCZ3DnlUb",
        "outputId": "31c31e29-1cd0-421a-9627-95873d11f89f"
      },
      "execution_count": 4,
      "outputs": [
        {
          "output_type": "stream",
          "name": "stdout",
          "text": [
            "Found 5790 files belonging to 2 classes.\n",
            "Using 4632 files for training.\n"
          ]
        }
      ]
    },
    {
      "cell_type": "code",
      "source": [
        "val_ds = tf.keras.preprocessing.image_dataset_from_directory(\n",
        "    data_dir,\n",
        "    validation_split =0.2,\n",
        "    subset =\"validation\",\n",
        "    seed =123,\n",
        "    label_mode= 'categorical',\n",
        "    image_size=(img_height, img_width),\n",
        "    batch_size = batch_size\n",
        ")"
      ],
      "metadata": {
        "colab": {
          "base_uri": "https://localhost:8080/"
        },
        "id": "1DYg_VnUntk8",
        "outputId": "1b4bdd85-e2b4-417c-8cd9-20b407b86be7"
      },
      "execution_count": 5,
      "outputs": [
        {
          "output_type": "stream",
          "name": "stdout",
          "text": [
            "Found 5790 files belonging to 2 classes.\n",
            "Using 1158 files for validation.\n"
          ]
        }
      ]
    },
    {
      "cell_type": "code",
      "source": [
        "class_names = train_ds.class_names\n",
        "print(class_names)"
      ],
      "metadata": {
        "colab": {
          "base_uri": "https://localhost:8080/"
        },
        "id": "vswVVGoYn2FD",
        "outputId": "3f983d90-f035-418e-e30d-5c35c726f9e7"
      },
      "execution_count": 6,
      "outputs": [
        {
          "output_type": "stream",
          "name": "stdout",
          "text": [
            "['Test', 'Training']\n"
          ]
        }
      ]
    },
    {
      "cell_type": "code",
      "source": [
        "from tensorflow.keras.layers import Conv2D, MaxPooling2D, Flatten, Dense, Activation\n",
        "from tensorflow.keras.optimizers import Adam\n",
        "from tensorflow.keras.models import Sequential"
      ],
      "metadata": {
        "id": "YAQ5QDkzn8p5"
      },
      "execution_count": 7,
      "outputs": []
    },
    {
      "cell_type": "code",
      "source": [
        "model = Sequential()\n",
        "model.add(Conv2D(32,(3,3), input_shape = (img_height, img_width, 3), activation =\"relu\"))\n",
        "model.add(MaxPooling2D(pool_size =(2,2)))\n",
        "model.add(Flatten())\n",
        "model.add(Dense(2, activation = \"softmax\")) # sir 6"
      ],
      "metadata": {
        "id": "l-5MgqAaoFot"
      },
      "execution_count": 8,
      "outputs": []
    },
    {
      "cell_type": "code",
      "source": [
        "model.compile(optimizer=Adam(learning_rate=0.001), loss =\"binary_crossentropy\", metrics=['accuracy'])"
      ],
      "metadata": {
        "id": "HTCM5GHNoKGR"
      },
      "execution_count": 9,
      "outputs": []
    },
    {
      "cell_type": "code",
      "source": [
        "history=model.fit(\n",
        "    train_ds,\n",
        "    validation_data = val_ds,\n",
        "    epochs=2\n",
        ")"
      ],
      "metadata": {
        "colab": {
          "base_uri": "https://localhost:8080/"
        },
        "id": "Zv48Ol8coOtJ",
        "outputId": "bf2273a8-5c89-4991-c7bc-a807d0f59009"
      },
      "execution_count": 10,
      "outputs": [
        {
          "output_type": "stream",
          "name": "stdout",
          "text": [
            "Epoch 1/2\n",
            "145/145 [==============================] - 1230s 8s/step - loss: 161.9005 - accuracy: 0.9214 - val_loss: 0.5371 - val_accuracy: 0.9361\n",
            "Epoch 2/2\n",
            "145/145 [==============================] - 22s 148ms/step - loss: 1.1168 - accuracy: 0.9214 - val_loss: 0.4932 - val_accuracy: 0.9335\n"
          ]
        }
      ]
    },
    {
      "cell_type": "code",
      "source": [
        "history=model.fit(\n",
        "    train_ds,\n",
        "    validation_data = val_ds,\n",
        "    epochs=5\n",
        ")"
      ],
      "metadata": {
        "colab": {
          "base_uri": "https://localhost:8080/"
        },
        "id": "ueH7MAjrsDNA",
        "outputId": "ad3cb22c-95f7-4d1b-afa8-8e1223b2d107"
      },
      "execution_count": 11,
      "outputs": [
        {
          "output_type": "stream",
          "name": "stdout",
          "text": [
            "Epoch 1/5\n",
            "145/145 [==============================] - 24s 161ms/step - loss: 0.4537 - accuracy: 0.9240 - val_loss: 0.4749 - val_accuracy: 0.9275\n",
            "Epoch 2/5\n",
            "145/145 [==============================] - 20s 134ms/step - loss: 0.4238 - accuracy: 0.9257 - val_loss: 0.4726 - val_accuracy: 0.9275\n",
            "Epoch 3/5\n",
            "145/145 [==============================] - 23s 153ms/step - loss: 0.3954 - accuracy: 0.9240 - val_loss: 0.4411 - val_accuracy: 0.9266\n",
            "Epoch 4/5\n",
            "145/145 [==============================] - 23s 156ms/step - loss: 0.3556 - accuracy: 0.9253 - val_loss: 0.4305 - val_accuracy: 0.9266\n",
            "Epoch 5/5\n",
            "145/145 [==============================] - 24s 160ms/step - loss: 0.3345 - accuracy: 0.9231 - val_loss: 0.4349 - val_accuracy: 0.9275\n"
          ]
        }
      ]
    }
  ]
}